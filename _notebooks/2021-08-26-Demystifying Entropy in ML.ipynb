{
  "nbformat": 4,
  "nbformat_minor": 0,
  "metadata": {
    "colab": {
      "name": "entropy_in_data_science.ipynb",
      "provenance": [],
      "collapsed_sections": [],
      "toc_visible": true
    },
    "kernelspec": {
      "name": "python3",
      "display_name": "Python 3"
    },
    "language_info": {
      "name": "python"
    }
  },
  "cells": [
    {
      "cell_type": "markdown",
      "metadata": {
        "id": "bNUYiEI3jjAh"
      },
      "source": [
        "# Demystifying Entropy in ML 👨‍💻 \n",
        "\n",
        "> In this post, I summarize my understing of what is entropy means in Machine Learning using some code examples. This post is inspired from the awesome [video](https://www.youtube.com/watch?v=YtebGVx-Fxw) from [Statquest](https://twitter.com/joshuastarmer).  \n",
        "\n",
        "- toc: true \n",
        "- badges: true\n",
        "- comments: true\n",
        "- categories: [Machine Learning, Python]\n",
        "- hide: false\n",
        "- image: images/dcgan.png"
      ]
    },
    {
      "cell_type": "markdown",
      "metadata": {
        "id": "lkKVsjoDG1Wo"
      },
      "source": [
        "Entropy is used for a lot of purposes in Data Science.\n",
        "* It can be used to build classiification trees.\n",
        "* It is the basis for Mutual Information which quantified the relation between two things.\n",
        "* It is the basis of Relative Entropy(aka the Kullback-Leibler Distance) and Cross Entropy.\n",
        "\n",
        "All of the above use entropy or something derived from it to quantify similarities and differences. Let's learn how entropy quantifies similarities and differences"
      ]
    },
    {
      "cell_type": "markdown",
      "metadata": {
        "id": "2ZnWfdKW1yn2"
      },
      "source": [
        "## Utility Code"
      ]
    },
    {
      "cell_type": "code",
      "metadata": {
        "id": "tRefRgnNIYwD"
      },
      "source": [
        "import numpy as np\n",
        "import pandas as pd\n",
        "import matplotlib.pyplot as plt\n",
        "import seaborn as sns\n",
        "import warnings\n",
        "warnings.filterwarnings('ignore')\n",
        "from collections import Counter\n",
        "%matplotlib inline\n",
        "%config InlineBackend.figure_format='retina'"
      ],
      "execution_count": 28,
      "outputs": []
    },
    {
      "cell_type": "code",
      "metadata": {
        "id": "DWHTpG3nGrrR"
      },
      "source": [
        "# Code to plot a function.\n",
        "def plot_func(f, tx=None, ty=None, title=None, min=-2, max=2, figsize=(6,4)):\n",
        "    x = np.linspace(min,max)\n",
        "    fig,ax = plt.subplots(figsize=figsize)\n",
        "    ax.plot(x,f(x))\n",
        "    if tx is not None: ax.set_xlabel(tx)\n",
        "    if ty is not None: ax.set_ylabel(ty)\n",
        "    if title is not None: ax.set_title(title)"
      ],
      "execution_count": 7,
      "outputs": []
    },
    {
      "cell_type": "markdown",
      "metadata": {
        "id": "BknMUgEYBkmp"
      },
      "source": [
        "## Introduction to Surprise 😲: Bags, Apples & Oranges 💼 🍎 🍊 "
      ]
    },
    {
      "cell_type": "markdown",
      "metadata": {
        "id": "CCTqf-FjctGg"
      },
      "source": [
        "Let's say we have three bags 💼  that are red, green, and blue in color. All these bags contain Apples 🍎  and Oranges 🍊 in different quantities. The task at hand is to quantify how similar or different these bags are from each other in terms of their composition using `Entropy` as a metric. "
      ]
    },
    {
      "cell_type": "markdown",
      "metadata": {
        "id": "69aV-e9GCrdg"
      },
      "source": [
        "Since the number of apples in the red bag  is more, the probability of picking up an apples  from the red bag is higher. Hence it would not be very surprising, if we picked up an apples from the red bag. In contrast, if we picked up an orange from the red bag, we would be relatively surprised."
      ]
    },
    {
      "cell_type": "code",
      "metadata": {
        "colab": {
          "base_uri": "https://localhost:8080/"
        },
        "id": "bXR_0J7F7_SQ",
        "outputId": "d97dd95f-7f24-4d9f-afb2-18e7bf7ab5ec"
      },
      "source": [
        "red_bag = np.array(['Apple']*4 + ['Orange']); print(f'Red Bag conatins: {Counter(red_bag)}') \n",
        "green_bag = np.array(['Orange']*9 + ['Apple']); print(f'Green Bag conatins: {Counter(green_bag)}')\n",
        "white_bag = np.array(['Orange']*5 + ['Apple']*5); print(f'White Bag conatins: {Counter(white_bag)}')"
      ],
      "execution_count": 8,
      "outputs": [
        {
          "output_type": "stream",
          "text": [
            "Red Bag conatins: Counter({'Apple': 4, 'Orange': 1})\n",
            "Green Bag conatins: Counter({'Orange': 9, 'Apple': 1})\n",
            "White Bag conatins: Counter({'Orange': 5, 'Apple': 5})\n"
          ],
          "name": "stdout"
        }
      ]
    },
    {
      "cell_type": "code",
      "metadata": {
        "colab": {
          "base_uri": "https://localhost:8080/"
        },
        "id": "3Z0urnm-Srfv",
        "outputId": "8dff6c7d-c521-4a0f-b35f-d55bc221c619"
      },
      "source": [
        "# Define the probability of observing Appless & Oranges in red bag.\n",
        "red_ctr = Counter(red_bag)\n",
        "\n",
        "P_apple_red = red_ctr['Apple'] / len(red_bag)\n",
        "print(f'P(Apple from Red Bag) : {round(P_apple_red,2)}')\n",
        "\n",
        "P_orange_red = red_ctr['Orange'] / len(red_bag)\n",
        "print(f'P(Orange from Red Bag): {round(P_orange_red,2)}')"
      ],
      "execution_count": 9,
      "outputs": [
        {
          "output_type": "stream",
          "text": [
            "P(Apple from Red Bag) : 0.8\n",
            "P(Orange from Red Bag): 0.2\n"
          ],
          "name": "stdout"
        }
      ]
    },
    {
      "cell_type": "markdown",
      "metadata": {
        "id": "trWJ5JvBElKJ"
      },
      "source": [
        "The green bag has a lot more oranges than apples. Hence we would not be very surprised if we picked up an orange from this bag. On the other hand, if we picked up a apple, that would be relatively surprising."
      ]
    },
    {
      "cell_type": "code",
      "metadata": {
        "colab": {
          "base_uri": "https://localhost:8080/"
        },
        "id": "dySsYFL9S2UH",
        "outputId": "ca482c56-0d43-4b99-8f1f-c5fd940d6a75"
      },
      "source": [
        "# Define the probability of observing Appless & Oranges in green bag.\n",
        "green_ctr = Counter(green_bag)\n",
        "\n",
        "P_apple_green = green_ctr['Apple'] / len(green_bag)\n",
        "print(f'P(Apple from Green Bag) : {round(P_apple_green,2)}')\n",
        "\n",
        "P_orange_green = green_ctr['Orange'] / len(green_bag)\n",
        "print(f'P(Orange from Green Bag): {round(P_orange_green,2)}')"
      ],
      "execution_count": 10,
      "outputs": [
        {
          "output_type": "stream",
          "text": [
            "P(Apple from Green Bag) : 0.1\n",
            "P(Orange from Green Bag): 0.9\n"
          ],
          "name": "stdout"
        }
      ]
    },
    {
      "cell_type": "markdown",
      "metadata": {
        "id": "eVyMgW6MFY1I"
      },
      "source": [
        "Since, the white bag has equal number of apples and oranges, we would be equally surprised, irrespective of whether we pick up and apple or orange."
      ]
    },
    {
      "cell_type": "code",
      "metadata": {
        "colab": {
          "base_uri": "https://localhost:8080/"
        },
        "id": "5BTrIbb8S7Mp",
        "outputId": "8f54a221-83ca-4b38-f4d7-9400a3a1845b"
      },
      "source": [
        "# Define the probability of observing Appless & Oranges in white bag.\n",
        "white_ctr = Counter(white_bag)\n",
        "\n",
        "P_apple_white = white_ctr['Apple'] / len(white_bag)\n",
        "print(f'P(Apple from White Bag) : {round(P_apple_white,2)}')\n",
        "\n",
        "P_orange_white = white_ctr['Orange'] / len(white_bag)\n",
        "print(f'P(Orange from White Bag): {round(P_orange_white,2)}')"
      ],
      "execution_count": 11,
      "outputs": [
        {
          "output_type": "stream",
          "text": [
            "P(Apple from White Bag) : 0.5\n",
            "P(Orange from White Bag): 0.5\n"
          ],
          "name": "stdout"
        }
      ]
    },
    {
      "cell_type": "markdown",
      "metadata": {
        "id": "5gLcqAlZFzvR"
      },
      "source": [
        "Looking at the above examples, we can observe the relationship between surprise and probability.\n",
        "* When the probability of picking an apple from the red bag is high, the surprise is low.\n",
        "* When the probability of picking an apple fronm the green bag is low, the surprise is high. \n",
        "\n",
        "Hence we can conclude the Surprise is inversely related to probability of an event."
      ]
    },
    {
      "cell_type": "markdown",
      "metadata": {
        "id": "pZP8Hg4gBiaq"
      },
      "source": [
        "## Defining Surprise Mathematically 🧮 \n",
        "\n",
        "In order to talk about entropy, first we will have to understand surprise. "
      ]
    },
    {
      "cell_type": "code",
      "metadata": {
        "id": "hSM49FclbKpR"
      },
      "source": [
        "# Function to calculate surprise\n",
        "def surprise(probability): return np.round(np.log2(1/probability),2)"
      ],
      "execution_count": 12,
      "outputs": []
    },
    {
      "cell_type": "code",
      "metadata": {
        "colab": {
          "base_uri": "https://localhost:8080/",
          "height": 294
        },
        "id": "Zxxx8dFqatlm",
        "outputId": "770e117b-0921-4561-da6c-c13e41131eaa"
      },
      "source": [
        "plot_func(surprise, tx='Probabity', ty='Surprise', title='Surprise vs Entropy', min=0, max=1)"
      ],
      "execution_count": 13,
      "outputs": [
        {
          "output_type": "display_data",
          "data": {
            "image/png": "[encoded data removed]",
            "text/plain": [
              "<Figure size 432x288 with 1 Axes>"
            ]
          },
          "metadata": {
            "image/png": {
              "width": 376,
              "height": 277
            },
            "needs_background": "light"
          }
        }
      ]
    },
    {
      "cell_type": "markdown",
      "metadata": {
        "id": "XsmVJe5WG-F1"
      },
      "source": [
        "Let's assume that we have a biased coin with $P(H)$ = 0.9 and $P(T)$ = 0.1. We can calculate the surprise of heads and tails as follows"
      ]
    },
    {
      "cell_type": "code",
      "metadata": {
        "id": "bZOwWF1TcrJn"
      },
      "source": [
        "P_h = 0.9\n",
        "P_t = 0.1"
      ],
      "execution_count": 14,
      "outputs": []
    },
    {
      "cell_type": "code",
      "metadata": {
        "colab": {
          "base_uri": "https://localhost:8080/"
        },
        "id": "Xq2jGlOkbUmL",
        "outputId": "4bedf3cc-e2cc-4c01-abd4-56f4dc23f735"
      },
      "source": [
        "S_h = surprise(P_h); S_h"
      ],
      "execution_count": 15,
      "outputs": [
        {
          "output_type": "execute_result",
          "data": {
            "text/plain": [
              "0.15"
            ]
          },
          "metadata": {},
          "execution_count": 15
        }
      ]
    },
    {
      "cell_type": "code",
      "metadata": {
        "colab": {
          "base_uri": "https://localhost:8080/"
        },
        "id": "34NOaDHKcUgQ",
        "outputId": "33221b81-24a9-4ecf-b45a-557ee1a22fd6"
      },
      "source": [
        "S_t = surprise(P_t); S_t"
      ],
      "execution_count": 16,
      "outputs": [
        {
          "output_type": "execute_result",
          "data": {
            "text/plain": [
              "3.32"
            ]
          },
          "metadata": {},
          "execution_count": 16
        }
      ]
    },
    {
      "cell_type": "markdown",
      "metadata": {
        "id": "HL0J9el0lD0q"
      },
      "source": [
        "## Calculating surprise for a series of events "
      ]
    },
    {
      "cell_type": "markdown",
      "metadata": {
        "id": "fCK3dzsvb-GH"
      },
      "source": [
        "Let's calculate the surprise of getting 2 heads and 1 tail. It turns out that it is same adding the surprise of 2 heads and 1 tail as seen in the snippets below."
      ]
    },
    {
      "cell_type": "code",
      "metadata": {
        "colab": {
          "base_uri": "https://localhost:8080/"
        },
        "id": "M472BmZicXuW",
        "outputId": "52354200-4261-48d8-aeab-b8b8545302c8"
      },
      "source": [
        "surprise(P_h * P_h * P_t)"
      ],
      "execution_count": 17,
      "outputs": [
        {
          "output_type": "execute_result",
          "data": {
            "text/plain": [
              "3.63"
            ]
          },
          "metadata": {},
          "execution_count": 17
        }
      ]
    },
    {
      "cell_type": "code",
      "metadata": {
        "colab": {
          "base_uri": "https://localhost:8080/"
        },
        "id": "ksRfaxd_eGl6",
        "outputId": "809bf635-53a4-445d-966e-d690fa086928"
      },
      "source": [
        "S_h + S_h + S_t"
      ],
      "execution_count": 18,
      "outputs": [
        {
          "output_type": "execute_result",
          "data": {
            "text/plain": [
              "3.6199999999999997"
            ]
          },
          "metadata": {},
          "execution_count": 18
        }
      ]
    },
    {
      "cell_type": "code",
      "metadata": {
        "colab": {
          "base_uri": "https://localhost:8080/"
        },
        "id": "HLOKMau3cb-3",
        "outputId": "bdf553b5-127d-495c-d723-c35891f21737"
      },
      "source": [
        "surprise(P_h * P_h * P_t) == S_h + S_h + S_t"
      ],
      "execution_count": 19,
      "outputs": [
        {
          "output_type": "execute_result",
          "data": {
            "text/plain": [
              "False"
            ]
          },
          "metadata": {},
          "execution_count": 19
        }
      ]
    },
    {
      "cell_type": "markdown",
      "metadata": {
        "id": "85oZedtUjMkF"
      },
      "source": [
        "## Entropy as the expected value of surprise "
      ]
    },
    {
      "cell_type": "markdown",
      "metadata": {
        "id": "FHXgGY8VyKV_"
      },
      "source": [
        " $Entropy$ = $\\sum$ $\\frac{1}{log(p(x))}$  $\\ast$  $p(x)$"
      ]
    },
    {
      "cell_type": "code",
      "metadata": {
        "colab": {
          "base_uri": "https://localhost:8080/",
          "height": 111
        },
        "id": "6pjvntkwke_q",
        "outputId": "337c3855-9fca-45d1-c18a-2f0fc3e6b240"
      },
      "source": [
        "table = pd.DataFrame({'Heads': [.15, .9], 'Tails': [3.32, .1]}, index=['Surprise','Probability']); table"
      ],
      "execution_count": 29,
      "outputs": [
        {
          "output_type": "execute_result",
          "data": {
            "text/html": [
              "<div>\n",
              "<style scoped>\n",
              "    .dataframe tbody tr th:only-of-type {\n",
              "        vertical-align: middle;\n",
              "    }\n",
              "\n",
              "    .dataframe tbody tr th {\n",
              "        vertical-align: top;\n",
              "    }\n",
              "\n",
              "    .dataframe thead th {\n",
              "        text-align: right;\n",
              "    }\n",
              "</style>\n",
              "<table border=\"1\" class=\"dataframe\">\n",
              "  <thead>\n",
              "    <tr style=\"text-align: right;\">\n",
              "      <th></th>\n",
              "      <th>Heads</th>\n",
              "      <th>Tails</th>\n",
              "    </tr>\n",
              "  </thead>\n",
              "  <tbody>\n",
              "    <tr>\n",
              "      <th>Surprise</th>\n",
              "      <td>0.15</td>\n",
              "      <td>3.32</td>\n",
              "    </tr>\n",
              "    <tr>\n",
              "      <th>Probability</th>\n",
              "      <td>0.90</td>\n",
              "      <td>0.10</td>\n",
              "    </tr>\n",
              "  </tbody>\n",
              "</table>\n",
              "</div>"
            ],
            "text/plain": [
              "             Heads  Tails\n",
              "Surprise      0.15   3.32\n",
              "Probability   0.90   0.10"
            ]
          },
          "metadata": {},
          "execution_count": 29
        }
      ]
    },
    {
      "cell_type": "code",
      "metadata": {
        "colab": {
          "base_uri": "https://localhost:8080/"
        },
        "id": "71N_txHBdrnq",
        "outputId": "06a64b37-c6c3-4b7c-b223-117cc1477f97"
      },
      "source": [
        "# Entropy is the average surprise per iteration of the process\n",
        "Entropy =  table.loc['Probability', 'Heads'] * table.loc['Surprise', 'Heads'] +  table.loc['Probability', 'Tails'] * table.loc['Surprise', 'Heads']\n",
        "Entropy"
      ],
      "execution_count": 34,
      "outputs": [
        {
          "output_type": "execute_result",
          "data": {
            "text/plain": [
              "0.15000000000000002"
            ]
          },
          "metadata": {},
          "execution_count": 34
        }
      ]
    },
    {
      "cell_type": "markdown",
      "metadata": {
        "id": "y-ho_dXXGbey"
      },
      "source": [
        "From the above equation, it can be observed that the Entropy can also be represented as the dot product of the probability of observing certain events and their associated surprise."
      ]
    },
    {
      "cell_type": "code",
      "metadata": {
        "id": "qwYUug86Ge8z"
      },
      "source": [
        "P_e = np.array([.9, .1])\n",
        "S_e = np.array([.15, 3.32])"
      ],
      "execution_count": null,
      "outputs": []
    },
    {
      "cell_type": "code",
      "metadata": {
        "id": "_rNno-7NGhFL"
      },
      "source": [
        "Entropy = np.dot(P_e, S_e)\n",
        "Entropy"
      ],
      "execution_count": null,
      "outputs": []
    },
    {
      "cell_type": "markdown",
      "metadata": {
        "id": "uE0YeIL53qA8"
      },
      "source": [
        "## Entropy in Action 🎬"
      ]
    },
    {
      "cell_type": "code",
      "metadata": {
        "id": "0bz4P4Rg5hq_"
      },
      "source": [
        "def entropy(arr):\n",
        "  ent = 0\n",
        "  probs = dict()\n",
        "  ctr = Counter(arr)\n",
        "  for e in ctr:\n",
        "    probs[f'P_{e}'] = ctr[e] / len(arr)\n",
        "  for p in probs:\n",
        "    ent += -1 * probs[p] * np.log2(probs[p])\n",
        "  return round(ent, 2)  "
      ],
      "execution_count": 23,
      "outputs": []
    },
    {
      "cell_type": "code",
      "metadata": {
        "id": "9JMNG6kupHPI"
      },
      "source": [
        "def show_entropy(bag_type=None, bag_type_str=None):\n",
        "  ctr = Counter(bag_type)\n",
        "  print(f\"{bag_type_str} conatins: {Counter(bag_type)}\")\n",
        "  print(f\"P(Apple from {bag_type_str}) : { ctr['Apple'] / len(bag_type)}\")\n",
        "  print(f\"P(Orange from {bag_type_str}): {ctr['Orange'] / len(bag_type)}\")\n",
        "  print(f\"Entropy of the {bag_type_str} is: {entropy(bag_type)}\")"
      ],
      "execution_count": 24,
      "outputs": []
    },
    {
      "cell_type": "markdown",
      "metadata": {
        "id": "unwE6dKRnrJV"
      },
      "source": [
        "The entropy for the red bag turns out to be 0.72. It is closer to the probability of picking an apple from the red bag because there are more apples in the red bag as compared to oranges."
      ]
    },
    {
      "cell_type": "code",
      "metadata": {
        "colab": {
          "base_uri": "https://localhost:8080/"
        },
        "id": "yulTkfWK0xnQ",
        "outputId": "bd152037-3253-42da-d79a-60b84a87aa2e"
      },
      "source": [
        "show_entropy(bag_type = red_bag, bag_type_str='Red Bag')"
      ],
      "execution_count": 25,
      "outputs": [
        {
          "output_type": "stream",
          "text": [
            "Red Bag conatins: Counter({'Apple': 4, 'Orange': 1})\n",
            "P(Apple from Red Bag) : 0.8\n",
            "P(Orange from Red Bag): 0.2\n",
            "Entropy of the Red Bag is: 0.72\n"
          ],
          "name": "stdout"
        }
      ]
    },
    {
      "cell_type": "code",
      "metadata": {
        "colab": {
          "base_uri": "https://localhost:8080/"
        },
        "id": "Xd9qKk_k1UK1",
        "outputId": "b9a3585e-725a-469a-cc34-4bf872a1ad9b"
      },
      "source": [
        "show_entropy(bag_type = green_bag, bag_type_str='Green Bag')"
      ],
      "execution_count": 26,
      "outputs": [
        {
          "output_type": "stream",
          "text": [
            "Green Bag conatins: Counter({'Orange': 9, 'Apple': 1})\n",
            "P(Apple from Green Bag) : 0.1\n",
            "P(Orange from Green Bag): 0.9\n",
            "Entropy of the Green Bag is: 0.47\n"
          ],
          "name": "stdout"
        }
      ]
    },
    {
      "cell_type": "code",
      "metadata": {
        "colab": {
          "base_uri": "https://localhost:8080/"
        },
        "id": "N2jlV_mJ1UmF",
        "outputId": "3f2a9065-7bd6-4625-e38d-50d2e148c443"
      },
      "source": [
        "show_entropy(bag_type = white_bag, bag_type_str='White Bag')"
      ],
      "execution_count": 27,
      "outputs": [
        {
          "output_type": "stream",
          "text": [
            "White Bag conatins: Counter({'Orange': 5, 'Apple': 5})\n",
            "P(Apple from White Bag) : 0.5\n",
            "P(Orange from White Bag): 0.5\n",
            "Entropy of the White Bag is: 1.0\n"
          ],
          "name": "stdout"
        }
      ]
    },
    {
      "cell_type": "markdown",
      "metadata": {
        "id": "W0iUuyMbzau4"
      },
      "source": [
        "## Summary\n",
        "\n",
        "We use entropy to quantify the similarity or difference between two groups composed of a certain types of objects.Entropy of a group is highest when we have the same number of objects belonging to different classes in that group and it decreases as the difference between the objects of different classes increases."
      ]
    }
  ]
}